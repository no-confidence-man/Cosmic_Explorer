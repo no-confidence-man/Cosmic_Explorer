{
 "cells": [
  {
   "cell_type": "code",
   "execution_count": null,
   "id": "683537b5-2255-4529-89f2-354f2887e4f2",
   "metadata": {},
   "outputs": [],
   "source": [
    "import subprocess\n",
    "import os\n",
    "import zipfile\n",
    "import arcgis\n",
    "from arcgis.gis import GIS\n",
    "from arcgis.features import Feature, FeatureLayer, FeatureCollection, FeatureSet\n",
    "from arcgis.geometry.filters import intersects\n",
    "from arcgis.geometry import Geometry, Point, Polyline, lengths\n",
    "import csv"
   ]
  },
  {
   "cell_type": "code",
   "execution_count": null,
   "id": "74c97329-c4fa-4f62-8eb4-d2ffa037e8da",
   "metadata": {},
   "outputs": [],
   "source": [
    "#Logging in\n",
    "# There are two ways to log in. One would require a client ID, which you might not have access to \n",
    "# unless your GIS administrator gives you the right privileges. I had trouble logging in without a client ID, but you might not. \n",
    "# Try method 1 first, especially if you don't have a client ID. If that doesn't work... \n",
    "# Try getting the right privileges from your admin and proceed with method 2."
   ]
  },
  {
   "cell_type": "code",
   "execution_count": null,
   "id": "80ca0167-23c2-4b06-b7b6-f54e4a7c0e13",
   "metadata": {},
   "outputs": [],
   "source": [
    "# Method 1: Logging in without a client ID\n",
    "gis_url = \"https://your_org.maps.arcgis.com\" # url to your org's arcGIS\n",
    "username = \"your_username\" # username to your arcGIS account\n",
    "password = \"your_password\" # password to your arcGIS account\n",
    "gis = GIS(gis_url, username, password) \n",
    "print(\"Logged in as: \" + gis.properties.user.username)"
   ]
  },
  {
   "cell_type": "code",
   "execution_count": null,
   "id": "347fea2a-89bf-4ba3-a8d0-348455110ca0",
   "metadata": {},
   "outputs": [],
   "source": [
    "# Method 2: Logging in with a client ID\n",
    "gis_url= \"https://your_org.maps.arcgis.com\" # url to your org's arcGIS\n",
    "your_client_id = \" \" # paste client ID here\n",
    "gis = GIS(gis_url, client_id=your_client_id)\n",
    "print(\"Successfully logged in as: \" + gis.properties.user.username)"
   ]
  },
  {
   "cell_type": "code",
   "execution_count": null,
   "id": "fdc8d06f-bffb-4d4a-9396-43af9299834c",
   "metadata": {},
   "outputs": [],
   "source": [
    "# Converts KMLs to shapefiles, zips them, and stores them in a local output folder\n",
    "\n",
    "kml_folder = r\"C:\\Users\\tooba\\Downloads\\idaho_sites_zero_buildings\" #path to the folder with all your kmls\n",
    "output_folder = r\"C:\\Users\\tooba\\Downloads\\output_shp\" #path to the folder where all the shapefiles will go\n",
    "\n",
    "def kml_to_shapefile(kml_path, shp_path):\n",
    "    command = [\"ogr2ogr\", \"-f\", \"ESRI Shapefile\", shp_path, kml_path]\n",
    "    try:\n",
    "        subprocess.run(command, check=True, capture_output=True, text=True)\n",
    "        #print(f\"Converted '{kml_path}' to '{shp_path}'\")\n",
    "    except subprocess.CalledProcessError as e:\n",
    "        print(f\"Error converting to shapefile: {e}\")\n",
    "\n",
    "def zip_shapefile_components(shp_path):\n",
    "    folder = os.path.dirname(shp_path)\n",
    "    basename = os.path.splitext(os.path.basename(shp_path))[0]\n",
    "    zip_path = os.path.join(folder, basename + \".zip\")\n",
    "\n",
    "    with zipfile.ZipFile(zip_path, 'w') as zipf:\n",
    "        for ext in [\".shp\", \".shx\", \".dbf\", \".prj\", \".cpg\", \".qix\"]:\n",
    "            filepath = os.path.join(folder, basename + ext)\n",
    "            if os.path.exists(filepath):\n",
    "                zipf.write(filepath, os.path.basename(filepath))\n",
    "                os.remove(filepath)\n",
    "\n",
    "for file in os.listdir(kml_folder):\n",
    "    if file.endswith(('.kml', '.kmz')):\n",
    "        kml_path = os.path.join(kml_folder, file)\n",
    "        #print(kml_path)\n",
    "        basename = os.path.splitext(file)[0]\n",
    "        shp_path = os.path.join(output_folder, basename + \".shp\")\n",
    "        #print(shp_path)\n",
    "        kml_to_shapefile(kml_path, shp_path)\n",
    "        zip_shapefile_components(shp_path)\n",
    "\n",
    "print(f\"Completed file conversions. Go check them out in folder: {os.path.basename(output_folder)}.\")\n"
   ]
  },
  {
   "cell_type": "code",
   "execution_count": null,
   "id": "88a044e9-734e-4a22-8591-360506edb89a",
   "metadata": {},
   "outputs": [],
   "source": [
    "# Imports the shapefiles from your local output folder to your online ArcGIS account, converts them to feature layers, and publishes them to your webmap \n",
    "\n",
    "webmap_search = gis.content.search(\"title:ce\", item_type=\"Web Map\")\n",
    "webmap_item = webmap_search[0]\n",
    "\n",
    "webmap_data = webmap_item.get_data()\n",
    "\n",
    "for zip_shp_file in os.listdir(output_folder):\n",
    "    zip_shp_path = os.path.join(output_folder, zip_shp_file)\n",
    "    # print(zip_shp_path)\n",
    "    name = os.path.basename(zip_shp_file[:-4])\n",
    "    # print(name)\n",
    "    existing_layers = gis.content.search(f'title:\"{name}\"', max_items=1)\n",
    "    site_exists = len(existing_layers) > 0\n",
    "\n",
    "    if site_exists:\n",
    "        print(f\"{name} already exists. Skipping.\")\n",
    "        continue\n",
    "    else:\n",
    "        item_properties = {\"title\": str(name), \"type\": \"Shapefile\", \"tags\": \"shapefile, layer, ce\" } \n",
    "        shapefile_item = gis.content.add(item_properties, data=zip_shp_path)\n",
    "        published_layer = shapefile_item.publish()\n",
    "        shp_url = published_layer.layers[0].url\n",
    "        \n",
    "        # add to the web map's operational layers\n",
    "        shp_layer = {\"id\": shp_url,\"title\": name,\"url\": shp_url,\"visibility\": True,\"opacity\": 1,\"layerType\": \"ArcGISFeatureLayer\"}\n",
    "        webmap_data[\"operationalLayers\"].append(shp_layer)\n",
    "        print(f\"Added {name} to web map.\")\n",
    "        webmap_item.update(data=webmap_data)\n",
    "    \n",
    "print(f\"Web map '{webmap_item.title}' successfully updated with CE sites!\")"
   ]
  }
 ],
 "metadata": {
  "kernelspec": {
   "display_name": "Python [conda env:base] *",
   "language": "python",
   "name": "conda-base-py"
  },
  "language_info": {
   "codemirror_mode": {
    "name": "ipython",
    "version": 3
   },
   "file_extension": ".py",
   "mimetype": "text/x-python",
   "name": "python",
   "nbconvert_exporter": "python",
   "pygments_lexer": "ipython3",
   "version": "3.12.7"
  }
 },
 "nbformat": 4,
 "nbformat_minor": 5
}
